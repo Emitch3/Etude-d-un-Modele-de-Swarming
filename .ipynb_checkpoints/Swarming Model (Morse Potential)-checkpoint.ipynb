{
 "cells": [
  {
   "cell_type": "code",
   "execution_count": 31,
   "id": "79ab6e8e",
   "metadata": {},
   "outputs": [],
   "source": [
    "import numpy as np\n",
    "from scipy.integrate import solve_ivp\n",
    "import matplotlib.pyplot as plt\n",
    "from matplotlib import animation"
   ]
  },
  {
   "cell_type": "code",
   "execution_count": 32,
   "id": "5f384535",
   "metadata": {},
   "outputs": [],
   "source": [
    "#parameters\n",
    "n_agents = 10\n",
    "\n",
    "CA = 2\n",
    "lA = 10\n",
    "CB = 5\n",
    "lB = .5\n",
    "#tau = 2\n",
    "\n",
    "#initial conditions\n",
    "init_x = np.random.random(n_agents)*40\n",
    "init_y = np.random.random(n_agents)*10\n",
    "\n",
    "init_v_x = []\n",
    "init_v_y = [0]*n_agents\n",
    "\n",
    "for x in init_x:\n",
    "    if x<20.0:\n",
    "        init_v_x.append(1.0)\n",
    "    else:\n",
    "        init_v_x.append(-1.0)\n",
    "    \n",
    "Z0 = []\n",
    "\n",
    "for i in range(n_agents):      \n",
    "        Z0.append(init_x[i])\n",
    "        Z0.append(init_y[i])\n",
    "        Z0.append(init_v_x[i])\n",
    "        Z0.append(init_v_y[i])\n",
    "\n",
    "#desired_v_x = init_v_x\n",
    "#desired_v_y = init_v_y\n",
    "    \n",
    "dx = np.zeros(n_agents)\n",
    "dy = np.zeros(n_agents)\n",
    "dv_x = np.zeros(n_agents)\n",
    "dv_y = np.zeros(n_agents)   \n",
    "\n",
    "x = []\n",
    "y = []\n",
    "v_x = []      \n",
    "v_y = [] \n",
    "output = []\n",
    "    \n",
    "def swarmingmodel(t,Z):\n",
    "    \n",
    "    dx.fill(0.0)\n",
    "    dy.fill(0.0)\n",
    "    dv_x.fill(0.0)\n",
    "    dv_y.fill(0.0)\n",
    "      \n",
    "    x.clear()\n",
    "    y.clear()\n",
    "    v_x.clear()\n",
    "    v_y.clear()\n",
    "    \n",
    "    for i in range(n_agents):      #unpack states  \n",
    "        x.append(Z[4*i])\n",
    "        y.append(Z[4*i+1])\n",
    "        v_x.append(Z[4*i+2])\n",
    "        v_y.append(Z[4*i+3])\n",
    "\n",
    "    for i in range(n_agents):\n",
    "\n",
    "        dx[i] += v_x[i]  \n",
    "        dy[i] += v_y[i]\n",
    "    #    dv_x[i] += (1/tau)*(desired_v_x[i] - v_x[i])   \n",
    "     #   dv_y[i] += (1/tau)*(desired_v_y[i] - v_y[i]) \n",
    "            \n",
    "        for j in range(n_agents):\n",
    "            if i != j:\n",
    "                r = ((x[i] - x[j])**2 + (y[i] - y[j])**2)**0.5\n",
    "                dv_x[i] -= ((CA/lA)*np.exp(-r/lA) - (CB/lB)*np.exp(-r/lB))*((x[i] - x[j])/r)   #attraction-replusion term\n",
    "                dv_y[i] -= ((CA/lA)*np.exp(-r/lA) - (CB/lB)*np.exp(-r/lB))*((y[i] - y[j])/r)   # Morse potential\n",
    "                                                                                                                            \n",
    "    output.clear()\n",
    "    for i in range(n_agents):\n",
    "        output.append(dx[i])\n",
    "        output.append(dy[i])\n",
    "        output.append(dv_x[i])\n",
    "        output.append(dv_y[i])\n",
    "      \n",
    "    return tuple(output)"
   ]
  },
  {
   "cell_type": "code",
   "execution_count": 33,
   "id": "083bb8e5",
   "metadata": {},
   "outputs": [],
   "source": [
    "t = np.linspace(0,60,150)\n",
    "sol = solve_ivp(swarmingmodel,[t[0],t[-1]],Z0, method = 'RK45',t_eval = t)"
   ]
  },
  {
   "cell_type": "code",
   "execution_count": 34,
   "id": "f2aba1b1",
   "metadata": {},
   "outputs": [
    {
     "data": {
      "image/png": "[encoded data removed]",
      "text/plain": [
       "<Figure size 576x576 with 1 Axes>"
      ]
     },
     "metadata": {
      "needs_background": "light"
     },
     "output_type": "display_data"
    }
   ],
   "source": [
    "def animate(i):\n",
    "\n",
    "    ln1.set_data([sol.y[4*k][i] for k in range(n_agents)],[sol.y[4*k+1][i] for k in range(n_agents)] )\n",
    "    qr.set_offsets([[sol.y[4*k][i] , sol.y[4*k+1][i]] for k in range(n_agents)])\n",
    "    qr.set_UVC([sol.y[4*k+2][i] for k in range(n_agents)],[sol.y[4*k+3][i] for k in range(n_agents)])\n",
    "    \n",
    "fig, ax = plt.subplots(1,1, figsize = (8,8))\n",
    "ax.grid()\n",
    "\n",
    "qr = ax.quiver([[sol.y[4*k][0] for k in range(n_agents)]],[sol.y[4*k+1][0] for k in range(n_agents)],[sol.y[4*k+2][0] for k in range(n_agents)],[sol.y[4*k+3][0] for k in range(n_agents)],color='grey')\n",
    "ln1, = plt.plot([],[],'o',lw = 3, markersize = 10)\n",
    "\n",
    "plt.title(\"Swarming Simulation\")\n",
    "plt.figtext(.02, .02, \"$C_{A}$ = \"+ str(round(CA,3)) + \", $l_{A}$ = \" + str(round(lA,3)) + \", $C_{B}$ = \" + str(round(CB,3)) + \", $l_{B}$ = \" + str(round(lB,3))) #+ \", τ = \" + str(round(tau,3))\n",
    "\n",
    "ax.set_xlim(0,40)\n",
    "ax.set_ylim(-10,40) #x,y lims\n",
    "\n",
    "ani = animation.FuncAnimation(fig,animate,frames = len(sol.y[0]),interval = 20)\n",
    "ani.save('swarming_simulation.gif', writer = 'pillow',fps =15)  #saves as gif\n"
   ]
  },
  {
   "cell_type": "code",
   "execution_count": null,
   "id": "a49ef9e5",
   "metadata": {},
   "outputs": [],
   "source": []
  }
 ],
 "metadata": {
  "kernelspec": {
   "display_name": "Python 3 (ipykernel)",
   "language": "python",
   "name": "python3"
  },
  "language_info": {
   "codemirror_mode": {
    "name": "ipython",
    "version": 3
   },
   "file_extension": ".py",
   "mimetype": "text/x-python",
   "name": "python",
   "nbconvert_exporter": "python",
   "pygments_lexer": "ipython3",
   "version": "3.9.7"
  }
 },
 "nbformat": 4,
 "nbformat_minor": 5
}
